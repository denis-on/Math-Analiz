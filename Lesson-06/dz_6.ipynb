{
  "metadata": {
    "language_info": {
      "codemirror_mode": {
        "name": "python",
        "version": 3
      },
      "file_extension": ".py",
      "mimetype": "text/x-python",
      "name": "python",
      "nbconvert_exporter": "python",
      "pygments_lexer": "ipython3",
      "version": "3.8"
    },
    "kernelspec": {
      "name": "python",
      "display_name": "Python (Pyodide)",
      "language": "python"
    }
  },
  "nbformat_minor": 4,
  "nbformat": 4,
  "cells": [
    {
      "cell_type": "code",
      "source": "import sympy as sp",
      "metadata": {
        "trusted": true
      },
      "execution_count": 114,
      "outputs": []
    },
    {
      "cell_type": "code",
      "source": "# Создаем символьные переменные\nx = sp.Symbol('x')",
      "metadata": {
        "trusted": true
      },
      "execution_count": 115,
      "outputs": []
    },
    {
      "cell_type": "markdown",
      "source": "## Найти производные указанных функций:",
      "metadata": {}
    },
    {
      "cell_type": "code",
      "source": "# Определяем функцию y\ny = x**3 * sp.log(2,x)\n\n# Вычисляем производную функции y\ny_derivative = y.diff(x)\n\n# Выводим функцию на экран\ny",
      "metadata": {
        "trusted": true
      },
      "execution_count": 116,
      "outputs": [
        {
          "execution_count": 116,
          "output_type": "execute_result",
          "data": {
            "text/plain": "x**3*log(2)/log(x)",
            "text/latex": "$\\displaystyle \\frac{x^{3} \\log{\\left(2 \\right)}}{\\log{\\left(x \\right)}}$"
          },
          "metadata": {}
        }
      ]
    },
    {
      "cell_type": "code",
      "source": "# Выводим производную на экран\nsp.simplify(y_derivative)",
      "metadata": {
        "trusted": true
      },
      "execution_count": 117,
      "outputs": [
        {
          "execution_count": 117,
          "output_type": "execute_result",
          "data": {
            "text/plain": "x**2*(3*log(x) - 1)*log(2)/log(x)**2",
            "text/latex": "$\\displaystyle \\frac{x^{2} \\cdot \\left(3 \\log{\\left(x \\right)} - 1\\right) \\log{\\left(2 \\right)}}{\\log{\\left(x \\right)}^{2}}$"
          },
          "metadata": {}
        }
      ]
    },
    {
      "cell_type": "code",
      "source": "# Определяем функцию y\ny = -10*sp.atan(x) + 7*sp.exp(x)\n\n# Вычисляем производную функции y\ny_derivative = y.diff(x)\n\n# Выводим функцию на экран\ny",
      "metadata": {
        "trusted": true
      },
      "execution_count": 118,
      "outputs": [
        {
          "execution_count": 118,
          "output_type": "execute_result",
          "data": {
            "text/plain": "7*exp(x) - 10*atan(x)",
            "text/latex": "$\\displaystyle 7 e^{x} - 10 \\operatorname{atan}{\\left(x \\right)}$"
          },
          "metadata": {}
        }
      ]
    },
    {
      "cell_type": "code",
      "source": "# Выводим производную на экран\ny_derivative",
      "metadata": {
        "trusted": true
      },
      "execution_count": 119,
      "outputs": [
        {
          "execution_count": 119,
          "output_type": "execute_result",
          "data": {
            "text/plain": "7*exp(x) - 10/(x**2 + 1)",
            "text/latex": "$\\displaystyle 7 e^{x} - \\frac{10}{x^{2} + 1}$"
          },
          "metadata": {}
        }
      ]
    },
    {
      "cell_type": "code",
      "source": "# Определяем функцию y\ny = (1 / sp.cbrt(x**2)) - (2 / (x**3)) + (sp.sqrt(7)*x)\n\n# Вычисляем производную функции y\ny_derivative = y.diff(x)\n\n# Выводим функцию на экран\ny",
      "metadata": {
        "trusted": true
      },
      "execution_count": 120,
      "outputs": [
        {
          "execution_count": 120,
          "output_type": "execute_result",
          "data": {
            "text/plain": "sqrt(7)*x + (x**2)**(-1/3) - 2/x**3",
            "text/latex": "$\\displaystyle \\sqrt{7} x + \\frac{1}{\\sqrt[3]{x^{2}}} - \\frac{2}{x^{3}}$"
          },
          "metadata": {}
        }
      ]
    },
    {
      "cell_type": "code",
      "source": "# Выводим производную на экран\nsp.simplify(y_derivative)",
      "metadata": {
        "trusted": true
      },
      "execution_count": 121,
      "outputs": [
        {
          "execution_count": 121,
          "output_type": "execute_result",
          "data": {
            "text/plain": "sqrt(7) - 2/(3*x*(x**2)**(1/3)) + 6/x**4",
            "text/latex": "$\\displaystyle \\sqrt{7} - \\frac{2}{3 x \\sqrt[3]{x^{2}}} + \\frac{6}{x^{4}}$"
          },
          "metadata": {}
        }
      ]
    },
    {
      "cell_type": "code",
      "source": "# Определяем функцию y\ny = sp.cos( (1 - sp.sqrt(x)) / (1 + sp.sqrt(x)) )\n\n# Вычисляем производную функции y\ny_derivative = y.diff(x)\n\n# Выводим функцию на экран\ny",
      "metadata": {
        "trusted": true
      },
      "execution_count": 122,
      "outputs": [
        {
          "execution_count": 122,
          "output_type": "execute_result",
          "data": {
            "text/plain": "cos((1 - sqrt(x))/(sqrt(x) + 1))",
            "text/latex": "$\\displaystyle \\cos{\\left(\\frac{1 - \\sqrt{x}}{\\sqrt{x} + 1} \\right)}$"
          },
          "metadata": {}
        }
      ]
    },
    {
      "cell_type": "code",
      "source": "# Выводим производную на экран\nsp.simplify(y_derivative)",
      "metadata": {
        "trusted": true
      },
      "execution_count": 123,
      "outputs": [
        {
          "execution_count": 123,
          "output_type": "execute_result",
          "data": {
            "text/plain": "-sin((sqrt(x) - 1)/(sqrt(x) + 1))/(sqrt(x)*(sqrt(x) + 1)**2)",
            "text/latex": "$\\displaystyle - \\frac{\\sin{\\left(\\frac{\\sqrt{x} - 1}{\\sqrt{x} + 1} \\right)}}{\\sqrt{x} \\left(\\sqrt{x} + 1\\right)^{2}}$"
          },
          "metadata": {}
        }
      ]
    },
    {
      "cell_type": "code",
      "source": "# Определяем функцию y\ny = sp.exp(sp.sinh(5*x)**2)\n\n# Вычисляем производную функции y\ny_derivative = y.diff(x)\n\n# Выводим функцию на экран\ny",
      "metadata": {
        "trusted": true
      },
      "execution_count": 124,
      "outputs": [
        {
          "execution_count": 124,
          "output_type": "execute_result",
          "data": {
            "text/plain": "exp(sinh(5*x)**2)",
            "text/latex": "$\\displaystyle e^{\\sinh^{2}{\\left(5 x \\right)}}$"
          },
          "metadata": {}
        }
      ]
    },
    {
      "cell_type": "code",
      "source": "# Выводим производную на экран\ny_derivative",
      "metadata": {
        "trusted": true
      },
      "execution_count": 125,
      "outputs": [
        {
          "execution_count": 125,
          "output_type": "execute_result",
          "data": {
            "text/plain": "10*exp(sinh(5*x)**2)*sinh(5*x)*cosh(5*x)",
            "text/latex": "$\\displaystyle 10 e^{\\sinh^{2}{\\left(5 x \\right)}} \\sinh{\\left(5 x \\right)} \\cosh{\\left(5 x \\right)}$"
          },
          "metadata": {}
        }
      ]
    },
    {
      "cell_type": "code",
      "source": "# Определяем функцию y\ny = sp.log(((x+1)*(x+3)**3) / ((x+4)*(x+2)**3))\n\n# Вычисляем производную функции y\ny_derivative = y.diff(x)\n\n# Выводим функцию на экран\ny",
      "metadata": {
        "trusted": true
      },
      "execution_count": 126,
      "outputs": [
        {
          "execution_count": 126,
          "output_type": "execute_result",
          "data": {
            "text/plain": "log((x + 1)*(x + 3)**3/((x + 2)**3*(x + 4)))",
            "text/latex": "$\\displaystyle \\log{\\left(\\frac{\\left(x + 1\\right) \\left(x + 3\\right)^{3}}{\\left(x + 2\\right)^{3} \\left(x + 4\\right)} \\right)}$"
          },
          "metadata": {}
        }
      ]
    },
    {
      "cell_type": "code",
      "source": "# Выводим производную на экран\nsp.simplify(y_derivative)",
      "metadata": {
        "trusted": true
      },
      "execution_count": 127,
      "outputs": [
        {
          "execution_count": 127,
          "output_type": "execute_result",
          "data": {
            "text/plain": "6/(x**4 + 10*x**3 + 35*x**2 + 50*x + 24)",
            "text/latex": "$\\displaystyle \\frac{6}{x^{4} + 10 x^{3} + 35 x^{2} + 50 x + 24}$"
          },
          "metadata": {}
        }
      ]
    },
    {
      "cell_type": "code",
      "source": "# Определяем функцию y\ny = sp.sin(x)**2/sp.cot(x+1) + sp.cos(x)**2/sp.tan(x+1)\n\n# Вычисляем производную функции y\ny_derivative = y.diff(x)\n\n# Выводим функцию на экран\ny",
      "metadata": {
        "trusted": true
      },
      "execution_count": 128,
      "outputs": [
        {
          "execution_count": 128,
          "output_type": "execute_result",
          "data": {
            "text/plain": "sin(x)**2/cot(x + 1) + cos(x)**2/tan(x + 1)",
            "text/latex": "$\\displaystyle \\frac{\\sin^{2}{\\left(x \\right)}}{\\cot{\\left(x + 1 \\right)}} + \\frac{\\cos^{2}{\\left(x \\right)}}{\\tan{\\left(x + 1 \\right)}}$"
          },
          "metadata": {}
        }
      ]
    },
    {
      "cell_type": "code",
      "source": "# Выводим производную на экран\n(y_derivative)",
      "metadata": {
        "trusted": true
      },
      "execution_count": 129,
      "outputs": [
        {
          "execution_count": 129,
          "output_type": "execute_result",
          "data": {
            "text/plain": "(-tan(x + 1)**2 - 1)*cos(x)**2/tan(x + 1)**2 + (cot(x + 1)**2 + 1)*sin(x)**2/cot(x + 1)**2 + 2*sin(x)*cos(x)/cot(x + 1) - 2*sin(x)*cos(x)/tan(x + 1)",
            "text/latex": "$\\displaystyle \\frac{\\left(- \\tan^{2}{\\left(x + 1 \\right)} - 1\\right) \\cos^{2}{\\left(x \\right)}}{\\tan^{2}{\\left(x + 1 \\right)}} + \\frac{\\left(\\cot^{2}{\\left(x + 1 \\right)} + 1\\right) \\sin^{2}{\\left(x \\right)}}{\\cot^{2}{\\left(x + 1 \\right)}} + \\frac{2 \\sin{\\left(x \\right)} \\cos{\\left(x \\right)}}{\\cot{\\left(x + 1 \\right)}} - \\frac{2 \\sin{\\left(x \\right)} \\cos{\\left(x \\right)}}{\\tan{\\left(x + 1 \\right)}}$"
          },
          "metadata": {}
        }
      ]
    },
    {
      "cell_type": "markdown",
      "source": "Найти производную данной функции в точке",
      "metadata": {}
    },
    {
      "cell_type": "code",
      "source": "# Определяем функцию y\ny = sp.log(x)/x\n\n# Вычисляем производную функции y\ny_derivative = y.diff(x)\n\n# Выводим функцию на экран\ny",
      "metadata": {
        "trusted": true
      },
      "execution_count": 130,
      "outputs": [
        {
          "execution_count": 130,
          "output_type": "execute_result",
          "data": {
            "text/plain": "log(x)/x",
            "text/latex": "$\\displaystyle \\frac{\\log{\\left(x \\right)}}{x}$"
          },
          "metadata": {}
        }
      ]
    },
    {
      "cell_type": "code",
      "source": "# Выводим значение производной в точке x0\nx0 = 1\ny_derivative_value = y_derivative.evalf(subs={x: x0})\nprint(y_derivative_value)",
      "metadata": {
        "trusted": true
      },
      "execution_count": 131,
      "outputs": [
        {
          "name": "stdout",
          "text": "1.00000000000000\n",
          "output_type": "stream"
        }
      ]
    },
    {
      "cell_type": "code",
      "source": "# Определяем функцию y\ny = sp.sqrt(x)/(sp.sqrt(x)+1)\n\n# Вычисляем производную функции y\ny_derivative = y.diff(x)\n\n# Выводим функцию на экран\ny",
      "metadata": {
        "trusted": true
      },
      "execution_count": 132,
      "outputs": [
        {
          "execution_count": 132,
          "output_type": "execute_result",
          "data": {
            "text/plain": "sqrt(x)/(sqrt(x) + 1)",
            "text/latex": "$\\displaystyle \\frac{\\sqrt{x}}{\\sqrt{x} + 1}$"
          },
          "metadata": {}
        }
      ]
    },
    {
      "cell_type": "code",
      "source": "# Выводим значение производной в точке x0\nx0 = 9\ny_derivative_value = y_derivative.evalf(subs={x: x0})\nprint(y_derivative_value)",
      "metadata": {
        "trusted": true
      },
      "execution_count": 133,
      "outputs": [
        {
          "name": "stdout",
          "text": "0.0104166666666667\n",
          "output_type": "stream"
        }
      ]
    },
    {
      "cell_type": "markdown",
      "source": "## Используя логарифмическую производную, найти производные функ-\nций:",
      "metadata": {}
    },
    {
      "cell_type": "markdown",
      "source": "Для функции y = x^(ln(x)) логарифмическая производная будет выглядеть следующим образом:\n\n$$ y = x^{\\ln(x)} $$\n\n$$ \\ln(y) = \\ln (x^{\\ln(x)}) = \\ln(x) \\ln(x) = (\\ln(x))^2 $$\n\n$$ \\frac{d(\\ln(y))}{dx} = \\frac{2 \\ln(x) }{x} $$\n\n$$ \\frac{dy}{dx} = \\frac{d(\\ln(y))}{dx} y = \\frac{d}{dx} (\\ln(x))^2 x^{\\ln(x)} = \\frac{2 \\ln(x)}{x} x^{\\ln(x)} = 2(\\ln(x))^{2} x^{(\\ln(x))-1}$$",
      "metadata": {}
    },
    {
      "cell_type": "markdown",
      "source": "Для функции y = (x^3-2)*(x-1)^(1/3)/(x+5)^4 логарифмическая производная будет выглядеть следующим образом:\n\n$$ y = \\frac{(x^3-2)(x-1)^{1/3}}{(x+5)^4} $$\n\n$$ \\ln(y) = \\ln \\left(\\frac{(x^3-2)(x-1)^{1/3}}{(x+5)^4}\\right) = \\ln(x^3-2) + \\frac{1}{3} \\ln(x-1) - 4 \\ln(x+5) $$\n\n$$ \\frac{d(\\ln(y))}{dx} = \\frac{3x^2}{x^3-2} + \\frac{1}{3(x-1)} - \\frac{4}{x+5} $$\n\n$$ \\frac{dy}{dx} = \\frac{d(\\ln(y))}{dx} y = \\frac{d}{dx} \\left[\\ln(x^3-2) + \\frac{1}{3} \\ln(x-1) - 4 \\ln(x+5) \\right] \\frac{(x^3-2)(x-1)^{1/3}}{(x+5)^4}$$\n\nПрименяя правила производной сложной функции, получим:\n\n$$ \\frac{dy}{dx} = \\left( \\frac{3x^2}{x^3-2} + \\frac{1}{3(x-1)} - \\frac{4}{x+5} \\right) y $$",
      "metadata": {}
    },
    {
      "cell_type": "markdown",
      "source": "Для функции y = (tan(x))^cos(x) логарифмическая производная будет выглядеть следующим образом:\n\n$$ y = (\\tan(x))^{\\cos(x)} $$\n\n$$ \\ln(y) = \\ln\\left(\\tan(x)^{\\cos(x)}\\right) = \\cos(x) \\ln(\\tan(x)) $$\n\n$$ \\frac{d(\\ln(y))}{dx} = -\\sin(x) \\ln(\\tan(x)) + \\cos(x)\\frac{1}{\\tan(x)} $$\n\n$$ \\frac{dy}{dx} = \\frac{dy}{d\\ln(y)} \\frac{d(\\ln(y))}{dx} = (\\tan(x))^{\\cos(x)} \\left(-\\sin(x) \\ln(\\tan(x)) + \\cos(x)\\frac{1}{\\tan(x)} \\right) $$",
      "metadata": {}
    },
    {
      "cell_type": "markdown",
      "source": "## Найти производную неявно заданной функции:",
      "metadata": {}
    },
    {
      "cell_type": "code",
      "source": "import sympy as sym\n# Создаем символьные переменные\nx, y = sym.symbols('x y')",
      "metadata": {
        "trusted": true
      },
      "execution_count": 134,
      "outputs": []
    },
    {
      "cell_type": "code",
      "source": "f = x*sym.sin(y) + y*sym.sin(x)\n\ndf_dx = sym.diff(f, x)\ndf_dy = sym.diff(f, y)\n\nprint(f'df/dx = {df_dx}')\nprint(f'df/dy = {df_dy}')",
      "metadata": {
        "trusted": true
      },
      "execution_count": 135,
      "outputs": [
        {
          "name": "stdout",
          "text": "df/dx = y*cos(x) + sin(y)\ndf/dy = x*cos(y) + sin(x)\n",
          "output_type": "stream"
        }
      ]
    },
    {
      "cell_type": "code",
      "source": "f = sym.exp(x*y) - sym.cos(x**2+y**2)\n\ndf_dx = sym.diff(f, x)\ndf_dy = sym.diff(f, y)\n\nprint(f'df/dx = {df_dx}')\nprint(f'df/dy = {df_dy}')",
      "metadata": {
        "trusted": true
      },
      "execution_count": 136,
      "outputs": [
        {
          "name": "stdout",
          "text": "df/dx = 2*x*sin(x**2 + y**2) + y*exp(x*y)\ndf/dy = x*exp(x*y) + 2*y*sin(x**2 + y**2)\n",
          "output_type": "stream"
        }
      ]
    },
    {
      "cell_type": "markdown",
      "source": "## Найти производную для заданных параметрически функций",
      "metadata": {}
    },
    {
      "cell_type": "markdown",
      "source": "Найдем производные по параметру t для функций x(t) и y(t):\n\n$x'(t) = 3t^2 + 1$\n\n$y'(t) = 2t + 1$\n\nТаким образом, параметрически заданная функция имеет следующую производную:\n\n$$\\frac{dy}{dx} = \\frac{\\frac{dy}{dt}}{\\frac{dx}{dt}} = \\frac{2t+1}{3t^2+1}.$$",
      "metadata": {}
    },
    {
      "cell_type": "code",
      "source": "# Задаем переменные\nt = sp.Symbol('t')\n\n# Задаем функции\nx = t**3 + t\ny = t**2 + t + 1\n\n# Находим производные\ndx = sp.diff(x, t)\ndy = sp.diff(y, t)\n\n# Считаем производную y по x\ndy_dx = dy / dx\n\ndy_dx # Выводим результат",
      "metadata": {
        "trusted": true
      },
      "execution_count": 137,
      "outputs": [
        {
          "execution_count": 137,
          "output_type": "execute_result",
          "data": {
            "text/plain": "(2*t + 1)/(3*t**2 + 1)",
            "text/latex": "$\\displaystyle \\frac{2 t + 1}{3 t^{2} + 1}$"
          },
          "metadata": {}
        }
      ]
    },
    {
      "cell_type": "code",
      "source": "# Задаем переменные\nt = sp.Symbol('t')\n\n# Задаем функции\nx = sp.exp(t) * sp.sin(t)\ny = sp.exp(t) * sp.cos(t)\n\n# Находим производные\ndx = sp.diff(x, t)\ndy = sp.diff(y, t)\n\n# Считаем производную y по x\ndy_dx = dy / dx\n\ndy_dx # Выводим результат",
      "metadata": {
        "trusted": true
      },
      "execution_count": 138,
      "outputs": [
        {
          "execution_count": 138,
          "output_type": "execute_result",
          "data": {
            "text/plain": "(-exp(t)*sin(t) + exp(t)*cos(t))/(exp(t)*sin(t) + exp(t)*cos(t))",
            "text/latex": "$\\displaystyle \\frac{- e^{t} \\sin{\\left(t \\right)} + e^{t} \\cos{\\left(t \\right)}}{e^{t} \\sin{\\left(t \\right)} + e^{t} \\cos{\\left(t \\right)}}$"
          },
          "metadata": {}
        }
      ]
    },
    {
      "cell_type": "markdown",
      "source": "## Найти уравнения касательной и нормали к данной кривой в точке x0",
      "metadata": {}
    },
    {
      "cell_type": "code",
      "source": "x = sp.Symbol('x')\ny = sp.exp(x)\n\n# Находим производную\ny_prime = y.diff(x)\n\n# Вычисляем значение производной в точке x0=0\nx0 = 0\ny_prime_x0 = y_prime.subs(x, x0)\n\n# Уравнение касательной\ntangent_equation = y_prime_x0 * (x - x0) + y.subs(x, x0)\n\n# Уравнение нормали\nnormal_equation = -1/y_prime_x0 * (x - x0) + y.subs(x, x0)\n\n# Вывод уравнений\nprint(\"Уравнение касательной:\", tangent_equation)\nprint(\"Уравнение нормали:\", normal_equation)",
      "metadata": {
        "trusted": true
      },
      "execution_count": 139,
      "outputs": [
        {
          "name": "stdout",
          "text": "Уравнение касательной: x + 1\nУравнение нормали: 1 - x\n",
          "output_type": "stream"
        }
      ]
    },
    {
      "cell_type": "markdown",
      "source": "## Найти производные указанных порядков для следующих функций",
      "metadata": {}
    },
    {
      "cell_type": "code",
      "source": "# Задаем функцию y\ny = -x*sym.cos(x)\n\n# Находим первую производную\ny1 = sym.diff(y, x)\n\n# Находим вторую производную\ny2 = sym.diff(y1, x)",
      "metadata": {
        "trusted": true
      },
      "execution_count": 140,
      "outputs": []
    },
    {
      "cell_type": "code",
      "source": "y",
      "metadata": {
        "trusted": true
      },
      "execution_count": 141,
      "outputs": [
        {
          "execution_count": 141,
          "output_type": "execute_result",
          "data": {
            "text/plain": "-x*cos(x)",
            "text/latex": "$\\displaystyle - x \\cos{\\left(x \\right)}$"
          },
          "metadata": {}
        }
      ]
    },
    {
      "cell_type": "code",
      "source": "y2",
      "metadata": {
        "trusted": true
      },
      "execution_count": 142,
      "outputs": [
        {
          "execution_count": 142,
          "output_type": "execute_result",
          "data": {
            "text/plain": "x*cos(x) + 2*sin(x)",
            "text/latex": "$\\displaystyle x \\cos{\\left(x \\right)} + 2 \\sin{\\left(x \\right)}$"
          },
          "metadata": {}
        }
      ]
    },
    {
      "cell_type": "code",
      "source": "# Задаем функцию y\ny = sp.exp(2*x)\n\n# Находим первую производную\ny1 = sym.diff(y, x)\n\ny2 = sym.diff(y1, x)\ny3 = sym.diff(y2, x)\ny4 = sym.diff(y3, x)\ny5 = sym.diff(y4, x)",
      "metadata": {
        "trusted": true
      },
      "execution_count": 143,
      "outputs": []
    },
    {
      "cell_type": "code",
      "source": "y",
      "metadata": {
        "trusted": true
      },
      "execution_count": 144,
      "outputs": [
        {
          "execution_count": 144,
          "output_type": "execute_result",
          "data": {
            "text/plain": "exp(2*x)",
            "text/latex": "$\\displaystyle e^{2 x}$"
          },
          "metadata": {}
        }
      ]
    },
    {
      "cell_type": "code",
      "source": "y5",
      "metadata": {
        "trusted": true
      },
      "execution_count": 145,
      "outputs": [
        {
          "execution_count": 145,
          "output_type": "execute_result",
          "data": {
            "text/plain": "32*exp(2*x)",
            "text/latex": "$\\displaystyle 32 e^{2 x}$"
          },
          "metadata": {}
        }
      ]
    },
    {
      "cell_type": "code",
      "source": "# Определяем переменные n\nn = sym.Symbol('n')\n\n# Задаем функцию y\ny = sym.ln(1+x)\n\n# Находим n-ю производную\ny_n = sym.diff(y, x, n)\n\n# Заменяем значения факториала в формуле Лейбница\ny_n = y_n.subs(sym.factorial(n-1), sym.gamma(n))\n\nprint(y_n)",
      "metadata": {
        "trusted": true
      },
      "execution_count": 146,
      "outputs": [
        {
          "name": "stdout",
          "text": "0\n",
          "output_type": "stream"
        }
      ]
    }
  ]
}