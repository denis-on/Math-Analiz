{
  "metadata": {
    "language_info": {
      "codemirror_mode": {
        "name": "python",
        "version": 3
      },
      "file_extension": ".py",
      "mimetype": "text/x-python",
      "name": "python",
      "nbconvert_exporter": "python",
      "pygments_lexer": "ipython3",
      "version": "3.8"
    },
    "kernelspec": {
      "name": "python",
      "display_name": "Python (Pyodide)",
      "language": "python"
    }
  },
  "nbformat_minor": 4,
  "nbformat": 4,
  "cells": [
    {
      "cell_type": "markdown",
      "source": "* Найти dz/dt , если z = z(x; y), x = x(t), y = y(t), для\nz = x^2 + y^2 + xy, x = a sin t, y = a cos t",
      "metadata": {}
    },
    {
      "cell_type": "markdown",
      "source": "Используя правило цепочки (chain rule) вычислим производную z по времени t:\n\n$$\n\\frac{dz}{dt} = \\frac{\\partial z}{\\partial x} \\frac{dx}{dt} + \\frac{\\partial z}{\\partial y} \\frac{dy}{dt}\n$$\nимеем\n$$\nz = x^2 + y^2 + xy \\\n\\frac{\\partial z}{\\partial x} = 2x + y \\\n\\frac{\\partial z}{\\partial y} = 2y + x \\\nx = a \\sin t \\\n\\frac{dx}{dt} = a \\cos t \\\ny = a \\cos t \\\n\\frac{dy}{dt} = -a \\sin t \\\n$$ \nзначит \n$$\n\\frac{dz}{dt} = (2x + y)\\frac{dx}{dt} + (2y + x)\\frac{dy}{dt} \\\n= (2a \\sin t + a \\cos t)(a \\cos t) + (2a \\cos t + a \\sin t)(-a \\sin t) \\\n= 2a^2 \\sin t \\cos t - a^2 \\sin^2 t + (-2a^2 \\sin t \\cos t - a^2 \\cos^2 t) \\\n= -a^2\n$$ \nТаким образом, $\\frac{dz}{dt} = -a^2$.",
      "metadata": {}
    },
    {
      "cell_type": "markdown",
      "source": "* Для данных z = f(x; y), x = x(u; v), y = y(u; v) найти ∂z/∂u, ∂z/∂v и dz, для\nz = x^3 + y^3, где x = uv, y = u/v",
      "metadata": {}
    },
    {
      "cell_type": "code",
      "source": "import sympy as sp\n\n# Определим символьные переменные\nx, y, u, v = sp.symbols('x y u v')\n\n# Найдём функцию z\nz = x**3 + y**3\n\n# Замечаем, что x = uv, y = u/v.\n# Заменим переменные в определении z, чтобы выразить z через u и v\nz = z.subs(x, u*v).subs(y, u/v)\n\n# Найдём частные производные\ndz_du = sp.diff(z, u)\ndz_dv = sp.diff(z, v)\n\n# Найдём полный дифференциал\ndz = dz_du*sp.diff(u*v, u) + dz_dv*sp.diff(u*v, v)\ndz = dz.simplify()\nprint(dz)",
      "metadata": {
        "trusted": true
      },
      "execution_count": 44,
      "outputs": [
        {
          "name": "stdout",
          "text": "3*u**2*(u**2*(v**6 - 1) + v**2*(v**6 + 1))/v**4\n",
          "output_type": "stream"
        }
      ]
    },
    {
      "cell_type": "markdown",
      "source": "* Найти производные y`(x) неявных функций, заданных уравнениями:",
      "metadata": {}
    },
    {
      "cell_type": "markdown",
      "source": "Для нахождения производных неявной функции, заданной уравнением, нужно взять производную от обеих частей уравнения по x.\n\nДля начала перепишем уравнение в виде:\n\nxe^(2y) = y ln x + 8\n\nПродифференцируем обе части уравнения по x:\n\n$$\\frac{d}{dx}(xe^{2y}) = \\frac{d}{dx}(y\\ln x + 8)$$\n$$ e^{2y} + 2xy\\frac{dy}{dx} = \\frac{y}{x}+\\ln x \\frac{dy}{dx}$$\n\nВыразим производную y'(x):\n$$y' = \\frac{ e^{2y} -\\frac{y}{x}}{\\ln x -2xy }$$\n\nТаким образом, мы нашли производную y'(x) неявной функции, заданной уравнением xe^(2y) − y ln x = 8.",
      "metadata": {}
    },
    {
      "cell_type": "markdown",
      "source": "* Составить уравнение касательной прямой и нормали к\nкривой y = y(x), заданной уравнением F(x; y) = 0 в точке\nM0(x0; y0), для \nx^3 y − y^3 x = 6, M0(2; 1) ",
      "metadata": {}
    },
    {
      "cell_type": "markdown",
      "source": "Первым шагом нужно найти производные по x и y функции F(x, y):\n$$\n\\frac{\\partial F}{\\partial x} = 3x^2y - y^3\n$$\n$$\n\\frac{\\partial F}{\\partial y} = x^3 - 3y^2x\n$$\n\nПодставим координаты точки кривой M0(x0, y0) = (2,1) в найденные производные:\n$$\n\\frac{\\partial F}{\\partial x} \\Vert_{M0} = 3 \\cdot 2^2 \\cdot 1 - 1^3 = 11\n$$\n$$\n\\frac{\\partial F}{\\partial y} \\Vert_{M0} = 2^3 - 3 \\cdot 1^2 \\cdot 2 = -4\n$$\nИскомая касательная прямая проходит через точку M0(x0, y0) = (2,1) и имеет угловой коэффициент, равный произведению производной по x в точке M0 на -1:\n$$\nk_{tan} = - \\frac{\\frac{\\partial F}{\\partial x} \\Vert_{M0}}{\\frac{\\partial F}{\\partial y} \\Vert_{M0}} = -\\frac{11}{4}\n$$\nЗная угловой коэффициент k и координаты точки M0, можно записать уравнение касательной прямой:\n$$\ny - y_0 = k_{tan} (x - x_0)\n$$\nПодставим значения x0, y0 и k в уравнение:\n$$\ny - 1 = -\\frac{11}{4} (x - 2)\n$$\nУпростим уравнение:\n$$\ny = -\\frac{11}{4} x + \\frac{15}{4}\n$$\nИскомая нормаль проходит через точку M0(x0, y0) = (2,1) и перпендикулярна к касательной. Угловой коэффициент нормали равен отрицательному обратному к угловому коэффициенту касательной:\n$$\nk_{norm} = \\frac{4}{11}\n$$\nИскомое уравнение нормали получается в результате подстановки координат точки M0 и найденного углового коэффициента в общее уравнение прямой:\n$$\ny - y_0 = k_{norm} (x - x_0)\n$$\nПодставим x0, y0 и k в уравнение:\n$$\ny - 1 = \\frac{4}{11} (x - 2)\n$$\nУпростим уравнение:\n$$\ny = \\frac{4}{11} x - \\frac{6}{11}\n$$",
      "metadata": {}
    },
    {
      "cell_type": "markdown",
      "source": "* Для данных функций найти требуемую частную производную или дифференциал\nz = sin(x)*sin(y), d^2z",
      "metadata": {}
    },
    {
      "cell_type": "code",
      "source": "import sympy as sym\n\nx, y = sym.symbols('x y')      # Объявляем переменные\nz = sym.sin(x)*sym.sin(y)      # Задаем функцию\ndzdx2 = sym.diff(z, x, 2)      # Находим частную производную по x дважды\nd2zdx2dy = sym.diff(dzdx2, y)  # Находим частную производную по y еще раз\n\nd2z = d2zdx2dy                 # Общая вторая частная производная\nd2z                         # Выводим результат",
      "metadata": {
        "trusted": true
      },
      "execution_count": 45,
      "outputs": [
        {
          "execution_count": 45,
          "output_type": "execute_result",
          "data": {
            "text/plain": "-sin(x)*cos(y)",
            "text/latex": "$\\displaystyle - \\sin{\\left(x \\right)} \\cos{\\left(y \\right)}$"
          },
          "metadata": {}
        }
      ]
    },
    {
      "cell_type": "markdown",
      "source": "Для данных функций найти требуемую частную производную или дифференциал\nz =  xy + sin(x + y),∂^2z/∂x^2",
      "metadata": {}
    },
    {
      "cell_type": "code",
      "source": "import sympy as sp\n\n#определим переменные\nx, y = sp.symbols('x y')\nz = x*y + sp.sin(x+y)\n\n#находим первую производную\ndz_dx = sp.diff(z,x)\n#находим вторую производную\nd2z_dx2 = sp.diff(dz_dx,x)\n\nprint(d2z_dx2) #вывод результата",
      "metadata": {
        "trusted": true
      },
      "execution_count": 46,
      "outputs": [
        {
          "name": "stdout",
          "text": "-sin(x + y)\n",
          "output_type": "stream"
        }
      ]
    }
  ]
}