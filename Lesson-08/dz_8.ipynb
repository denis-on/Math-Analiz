{
  "metadata": {
    "language_info": {
      "codemirror_mode": {
        "name": "python",
        "version": 3
      },
      "file_extension": ".py",
      "mimetype": "text/x-python",
      "name": "python",
      "nbconvert_exporter": "python",
      "pygments_lexer": "ipython3",
      "version": "3.8"
    },
    "kernelspec": {
      "name": "python",
      "display_name": "Python (Pyodide)",
      "language": "python"
    }
  },
  "nbformat_minor": 4,
  "nbformat": 4,
  "cells": [
    {
      "cell_type": "markdown",
      "source": "## Домашнее задание по теме «Производные функций нескольких переменных»",
      "metadata": {}
    },
    {
      "cell_type": "code",
      "source": "import numpy as np\nimport sympy as sym\n\n# определение переменных и функции z\nx, y = sp.symbols('x y')",
      "metadata": {
        "trusted": true
      },
      "execution_count": 28,
      "outputs": []
    },
    {
      "cell_type": "markdown",
      "source": "* 1. Для нахожнения область определения функции z=√(1-x^3)+ln(y^2-1) необходимо определить область определения каждого слагаемого функции.\n\nПервое слагаемое: √(1-x^3)\nЭто выражение определено только для x, таких что 1-x^3 ≥ 0, то есть x^3 ≤ 1.\n\nВторое слагаемое: ln(y^2-1)\nЭто выражение определено только для y, таких что y^2-1 > 0, то есть y < -1 или y > 1.\n\nТаким образом, общая область определения:\n\nD = {(x,y) | x^3 ≤ 1, y < -1 или y > 1}",
      "metadata": {}
    },
    {
      "cell_type": "markdown",
      "source": " Решение выдаст множество {(x,y) | -1 < y < 1, x^3 ≤ 1}Решение выдаст множество {(x, y) | x^3 ≤ 1, y < -1 or y > 1}.",
      "metadata": {}
    },
    {
      "cell_type": "markdown",
      "source": "* 2. Конечная производная функции z=(1+(ln x)/(ln y))^3 по отдельным переменным x и y будут выглядеть так:",
      "metadata": {}
    },
    {
      "cell_type": "code",
      "source": "z = (1 + sym.log(x) / sym.log(y))**3\n\n# вычисление производных\ndz_dx = sym.diff(z, x)  # производная z по x\ndz_dy = sym.diff(z, y)  # производная z по y\n\n# вывод результатов\nprint(f\"dz/dx = {dz_dx}\")\nprint(f\"dz/dy = {dz_dy}\")",
      "metadata": {
        "trusted": true
      },
      "execution_count": 29,
      "outputs": [
        {
          "name": "stdout",
          "text": "dz/dx = 3*(log(x)/log(y) + 1)**2/(x*log(y))\ndz/dy = -3*(log(x)/log(y) + 1)**2*log(x)/(y*log(y)**2)\n",
          "output_type": "stream"
        }
      ]
    },
    {
      "cell_type": "code",
      "source": "dz_dx",
      "metadata": {
        "trusted": true
      },
      "execution_count": 30,
      "outputs": [
        {
          "execution_count": 30,
          "output_type": "execute_result",
          "data": {
            "text/plain": "3*(log(x)/log(y) + 1)**2/(x*log(y))",
            "text/latex": "$\\displaystyle \\frac{3 \\left(\\frac{\\log{\\left(x \\right)}}{\\log{\\left(y \\right)}} + 1\\right)^{2}}{x \\log{\\left(y \\right)}}$"
          },
          "metadata": {}
        }
      ]
    },
    {
      "cell_type": "code",
      "source": "dz_dy",
      "metadata": {
        "trusted": true
      },
      "execution_count": 31,
      "outputs": [
        {
          "execution_count": 31,
          "output_type": "execute_result",
          "data": {
            "text/plain": "-3*(log(x)/log(y) + 1)**2*log(x)/(y*log(y)**2)",
            "text/latex": "$\\displaystyle - \\frac{3 \\left(\\frac{\\log{\\left(x \\right)}}{\\log{\\left(y \\right)}} + 1\\right)^{2} \\log{\\left(x \\right)}}{y \\log{\\left(y \\right)}^{2}}$"
          },
          "metadata": {}
        }
      ]
    },
    {
      "cell_type": "markdown",
      "source": "* для нахождения полного дифференциала функции z=(2xy+cos(x/y))^(1/2) в точке (1;1):",
      "metadata": {}
    },
    {
      "cell_type": "code",
      "source": "import sympy as sp\n\n# Создаём символьные переменные x, y\nx, y = sp.symbols('x y')\n\n# Определяем функцию z\nz = sp.sqrt(2*x*y + sp.cos(x/y))\n\n# Находим частные производные по x и y\ndzdx = sp.diff(z, x)\ndzdy = sp.diff(z, y)\n\n# Выводим частные производные на экран\nprint(f\"Частная производная по x: {dzdx}\")\nprint(f\"Частная производная по y: {dzdy}\")\n\n# Вычисляем значение частных производных в точке (1, 1)\ndzdx_value = dzdx.subs([(x, 1), (y, 1)])\ndzdy_value = dzdy.subs([(x, 1), (y, 1)])\n\n# Находим полный дифференциал функции в точке (1, 1)\ndz = dzdx_value * sp.diff(x) + dzdy_value * sp.diff(y)\n\n# Выводим полный дифференциал функции на экран\nprint(f\"Полный дифференциал функции в точке (1,1): {dz}\")",
      "metadata": {
        "trusted": true
      },
      "execution_count": 32,
      "outputs": [
        {
          "name": "stdout",
          "text": "Частная производная по x: (y - sin(x/y)/(2*y))/sqrt(2*x*y + cos(x/y))\nЧастная производная по y: (x + x*sin(x/y)/(2*y**2))/sqrt(2*x*y + cos(x/y))\nПолный дифференциал функции в точке (1,1): (1 - sin(1)/2)/sqrt(cos(1) + 2) + (sin(1)/2 + 1)/sqrt(cos(1) + 2)\n",
          "output_type": "stream"
        }
      ]
    },
    {
      "cell_type": "code",
      "source": "dz",
      "metadata": {
        "trusted": true
      },
      "execution_count": 33,
      "outputs": [
        {
          "execution_count": 33,
          "output_type": "execute_result",
          "data": {
            "text/plain": "(1 - sin(1)/2)/sqrt(cos(1) + 2) + (sin(1)/2 + 1)/sqrt(cos(1) + 2)",
            "text/latex": "$\\displaystyle \\frac{1 - \\frac{\\sin{\\left(1 \\right)}}{2}}{\\sqrt{\\cos{\\left(1 \\right)} + 2}} + \\frac{\\frac{\\sin{\\left(1 \\right)}}{2} + 1}{\\sqrt{\\cos{\\left(1 \\right)} + 2}}$"
          },
          "metadata": {}
        }
      ]
    },
    {
      "cell_type": "markdown",
      "source": "* Исследовать на экстремум функцию z=x^2+xy+y^2-6x-9*y",
      "metadata": {}
    },
    {
      "cell_type": "code",
      "source": "import numpy as np\nimport sympy as sym\n\nx, y = sym.symbols(\"x y\")\nz = x**2 - 4*x + y**2 - y - 6\ngrad = sym.Matrix([sym.diff(z, var) for var in [x, y]])\nH = sym.Matrix([[sym.diff(z, x_, y_) for x_ in [x, y]] for y_ in [x, y]])\n\n\ncrit_points = sym.solve(grad, [x, y])\nprint(f\"Критические точки: {crit_points}\")\n",
      "metadata": {
        "trusted": true
      },
      "execution_count": 84,
      "outputs": [
        {
          "name": "stdout",
          "text": "Критические точки: {x: 2, y: 1/2}\n",
          "output_type": "stream"
        }
      ]
    },
    {
      "cell_type": "code",
      "source": "\n\n    # Находим значения вторых производных\n    H_subs = H.subs([(x, crit_points.get(x)), (y, crit_points.get(y))])\n    \n    if H_subs[0, 0] > 0 and H_subs.det() > 0:  # условие минимума\n        message = f'Точка ({crit_points.get(x):.2f}, {crit_points.get(y):.2f}) - минимум'\n    elif H_subs[0, 0] < 0 and H_subs.det() > 0:  # условие маскимума\n        message = f'Точка ({crit_points.get(x):.2f}, {crit_points.get(y):.2f}) - максимум'\n    elif H_subs.det() < 0:  # условие седловой точки\n        message = f'Точка ({crit_points.get(x):.2f}, {crit_points.get(y):.2f}) - седловая точка'\n    else:  # невозможно выяснить\n        message = f'Точка ({crit_points.get(x):.2f}, {crit_points.get(y):.2f}) - не удалось определить тип'\n    \n    print(message)",
      "metadata": {
        "trusted": true
      },
      "execution_count": 85,
      "outputs": [
        {
          "name": "stdout",
          "text": "Точка (2.00, 0.50) - минимум\n",
          "output_type": "stream"
        }
      ]
    },
    {
      "cell_type": "code",
      "source": "",
      "metadata": {},
      "execution_count": null,
      "outputs": []
    }
  ]
}