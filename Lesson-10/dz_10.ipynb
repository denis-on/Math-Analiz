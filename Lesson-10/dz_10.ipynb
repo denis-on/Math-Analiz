{
  "metadata": {
    "language_info": {
      "codemirror_mode": {
        "name": "python",
        "version": 3
      },
      "file_extension": ".py",
      "mimetype": "text/x-python",
      "name": "python",
      "nbconvert_exporter": "python",
      "pygments_lexer": "ipython3",
      "version": "3.8"
    },
    "kernelspec": {
      "name": "python",
      "display_name": "Python (Pyodide)",
      "language": "python"
    }
  },
  "nbformat_minor": 4,
  "nbformat": 4,
  "cells": [
    {
      "cell_type": "markdown",
      "source": "## Задания к уроку №10",
      "metadata": {}
    },
    {
      "cell_type": "code",
      "source": "from sympy import *\nx = symbols('x')",
      "metadata": {
        "trusted": true
      },
      "execution_count": 1,
      "outputs": []
    },
    {
      "cell_type": "markdown",
      "source": "Определим функцию f для вычисления индеграла",
      "metadata": {}
    },
    {
      "cell_type": "code",
      "source": "f = (x**4 + x**2 - 6*x) / (x**3)\nf",
      "metadata": {
        "trusted": true
      },
      "execution_count": 2,
      "outputs": [
        {
          "execution_count": 2,
          "output_type": "execute_result",
          "data": {
            "text/plain": "(x**4 + x**2 - 6*x)/x**3",
            "text/latex": "$\\displaystyle \\frac{x^{4} + x^{2} - 6 x}{x^{3}}$"
          },
          "metadata": {}
        }
      ]
    },
    {
      "cell_type": "markdown",
      "source": "Найдем неопределенный интеграл",
      "metadata": {}
    },
    {
      "cell_type": "code",
      "source": "integrate(f, x)",
      "metadata": {
        "trusted": true
      },
      "execution_count": 3,
      "outputs": [
        {
          "execution_count": 3,
          "output_type": "execute_result",
          "data": {
            "text/plain": "x**2/2 + log(x) + 6/x",
            "text/latex": "$\\displaystyle \\frac{x^{2}}{2} + \\log{\\left(x \\right)} + \\frac{6}{x}$"
          },
          "metadata": {}
        }
      ]
    },
    {
      "cell_type": "code",
      "source": "f = cos(2*x)\nf",
      "metadata": {
        "trusted": true
      },
      "execution_count": 4,
      "outputs": [
        {
          "execution_count": 4,
          "output_type": "execute_result",
          "data": {
            "text/plain": "cos(2*x)",
            "text/latex": "$\\displaystyle \\cos{\\left(2 x \\right)}$"
          },
          "metadata": {}
        }
      ]
    },
    {
      "cell_type": "code",
      "source": "integrate(f, x)",
      "metadata": {
        "trusted": true
      },
      "execution_count": 5,
      "outputs": [
        {
          "execution_count": 5,
          "output_type": "execute_result",
          "data": {
            "text/plain": "sin(2*x)/2",
            "text/latex": "$\\displaystyle \\frac{\\sin{\\left(2 x \\right)}}{2}$"
          },
          "metadata": {}
        }
      ]
    },
    {
      "cell_type": "code",
      "source": "f = 1/(3*x+2)**4\nf",
      "metadata": {
        "trusted": true
      },
      "execution_count": 6,
      "outputs": [
        {
          "execution_count": 6,
          "output_type": "execute_result",
          "data": {
            "text/plain": "(3*x + 2)**(-4)",
            "text/latex": "$\\displaystyle \\frac{1}{\\left(3 x + 2\\right)^{4}}$"
          },
          "metadata": {}
        }
      ]
    },
    {
      "cell_type": "code",
      "source": "integrate(f, x)",
      "metadata": {
        "trusted": true
      },
      "execution_count": 7,
      "outputs": [
        {
          "execution_count": 7,
          "output_type": "execute_result",
          "data": {
            "text/plain": "-1/(243*x**3 + 486*x**2 + 324*x + 72)",
            "text/latex": "$\\displaystyle - \\frac{1}{243 x^{3} + 486 x^{2} + 324 x + 72}$"
          },
          "metadata": {}
        }
      ]
    },
    {
      "cell_type": "code",
      "source": "f = (5*x-1)/sqrt((4-x**2))\nf",
      "metadata": {
        "trusted": true
      },
      "execution_count": 8,
      "outputs": [
        {
          "execution_count": 8,
          "output_type": "execute_result",
          "data": {
            "text/plain": "(5*x - 1)/sqrt(4 - x**2)",
            "text/latex": "$\\displaystyle \\frac{5 x - 1}{\\sqrt{4 - x^{2}}}$"
          },
          "metadata": {}
        }
      ]
    },
    {
      "cell_type": "code",
      "source": "integrate(f, x)",
      "metadata": {
        "trusted": true
      },
      "execution_count": 9,
      "outputs": [
        {
          "execution_count": 9,
          "output_type": "execute_result",
          "data": {
            "text/plain": "-5*sqrt(4 - x**2) - asin(x/2)",
            "text/latex": "$\\displaystyle - 5 \\sqrt{4 - x^{2}} - \\operatorname{asin}{\\left(\\frac{x}{2} \\right)}$"
          },
          "metadata": {}
        }
      ]
    },
    {
      "cell_type": "code",
      "source": "f = 1/(sqrt(x)*(1+sqrt(x)))\nf",
      "metadata": {
        "trusted": true
      },
      "execution_count": 10,
      "outputs": [
        {
          "execution_count": 10,
          "output_type": "execute_result",
          "data": {
            "text/plain": "1/(sqrt(x)*(sqrt(x) + 1))",
            "text/latex": "$\\displaystyle \\frac{1}{\\sqrt{x} \\left(\\sqrt{x} + 1\\right)}$"
          },
          "metadata": {}
        }
      ]
    },
    {
      "cell_type": "code",
      "source": "integrate(f, x)",
      "metadata": {
        "trusted": true
      },
      "execution_count": 11,
      "outputs": [
        {
          "execution_count": 11,
          "output_type": "execute_result",
          "data": {
            "text/plain": "2*log(sqrt(x) + 1)",
            "text/latex": "$\\displaystyle 2 \\log{\\left(\\sqrt{x} + 1 \\right)}$"
          },
          "metadata": {}
        }
      ]
    },
    {
      "cell_type": "code",
      "source": "f = x**2*cos(x)\nf",
      "metadata": {
        "trusted": true
      },
      "execution_count": 12,
      "outputs": [
        {
          "execution_count": 12,
          "output_type": "execute_result",
          "data": {
            "text/plain": "x**2*cos(x)",
            "text/latex": "$\\displaystyle x^{2} \\cos{\\left(x \\right)}$"
          },
          "metadata": {}
        }
      ]
    },
    {
      "cell_type": "code",
      "source": "integrate(f, x)",
      "metadata": {
        "trusted": true
      },
      "execution_count": 13,
      "outputs": [
        {
          "execution_count": 13,
          "output_type": "execute_result",
          "data": {
            "text/plain": "x**2*sin(x) + 2*x*cos(x) - 2*sin(x)",
            "text/latex": "$\\displaystyle x^{2} \\sin{\\left(x \\right)} + 2 x \\cos{\\left(x \\right)} - 2 \\sin{\\left(x \\right)}$"
          },
          "metadata": {}
        }
      ]
    },
    {
      "cell_type": "code",
      "source": "f = atan(x)\nf",
      "metadata": {
        "trusted": true
      },
      "execution_count": 14,
      "outputs": [
        {
          "execution_count": 14,
          "output_type": "execute_result",
          "data": {
            "text/plain": "atan(x)",
            "text/latex": "$\\displaystyle \\operatorname{atan}{\\left(x \\right)}$"
          },
          "metadata": {}
        }
      ]
    },
    {
      "cell_type": "code",
      "source": "integrate(f, x)",
      "metadata": {
        "trusted": true
      },
      "execution_count": 15,
      "outputs": [
        {
          "execution_count": 15,
          "output_type": "execute_result",
          "data": {
            "text/plain": "x*atan(x) - log(x**2 + 1)/2",
            "text/latex": "$\\displaystyle x \\operatorname{atan}{\\left(x \\right)} - \\frac{\\log{\\left(x^{2} + 1 \\right)}}{2}$"
          },
          "metadata": {}
        }
      ]
    },
    {
      "cell_type": "code",
      "source": "f = 1/(x-1)**5\nf",
      "metadata": {
        "trusted": true
      },
      "execution_count": 16,
      "outputs": [
        {
          "execution_count": 16,
          "output_type": "execute_result",
          "data": {
            "text/plain": "(x - 1)**(-5)",
            "text/latex": "$\\displaystyle \\frac{1}{\\left(x - 1\\right)^{5}}$"
          },
          "metadata": {}
        }
      ]
    },
    {
      "cell_type": "code",
      "source": "integrate(f, x)",
      "metadata": {
        "trusted": true
      },
      "execution_count": 17,
      "outputs": [
        {
          "execution_count": 17,
          "output_type": "execute_result",
          "data": {
            "text/plain": "-1/(4*x**4 - 16*x**3 + 24*x**2 - 16*x + 4)",
            "text/latex": "$\\displaystyle - \\frac{1}{4 x^{4} - 16 x^{3} + 24 x^{2} - 16 x + 4}$"
          },
          "metadata": {}
        }
      ]
    },
    {
      "cell_type": "code",
      "source": "f = (6+x)/(x**2-2*x+17)\nf",
      "metadata": {
        "trusted": true
      },
      "execution_count": 18,
      "outputs": [
        {
          "execution_count": 18,
          "output_type": "execute_result",
          "data": {
            "text/plain": "(x + 6)/(x**2 - 2*x + 17)",
            "text/latex": "$\\displaystyle \\frac{x + 6}{x^{2} - 2 x + 17}$"
          },
          "metadata": {}
        }
      ]
    },
    {
      "cell_type": "code",
      "source": "integrate(f, x)",
      "metadata": {
        "trusted": true
      },
      "execution_count": 19,
      "outputs": [
        {
          "execution_count": 19,
          "output_type": "execute_result",
          "data": {
            "text/plain": "log(x**2 - 2*x + 17)/2 + 7*atan(x/4 - 1/4)/4",
            "text/latex": "$\\displaystyle \\frac{\\log{\\left(x^{2} - 2 x + 17 \\right)}}{2} + \\frac{7 \\operatorname{atan}{\\left(\\frac{x}{4} - \\frac{1}{4} \\right)}}{4}$"
          },
          "metadata": {}
        }
      ]
    },
    {
      "cell_type": "code",
      "source": "f = (x)/((x**2-1)*(x**2+1))\nf",
      "metadata": {
        "trusted": true
      },
      "execution_count": 20,
      "outputs": [
        {
          "execution_count": 20,
          "output_type": "execute_result",
          "data": {
            "text/plain": "x/((x**2 - 1)*(x**2 + 1))",
            "text/latex": "$\\displaystyle \\frac{x}{\\left(x^{2} - 1\\right) \\left(x^{2} + 1\\right)}$"
          },
          "metadata": {}
        }
      ]
    },
    {
      "cell_type": "code",
      "source": "integrate(f, x)",
      "metadata": {
        "trusted": true
      },
      "execution_count": 21,
      "outputs": [
        {
          "execution_count": 21,
          "output_type": "execute_result",
          "data": {
            "text/plain": "log(x**2 - 1)/4 - log(x**2 + 1)/4",
            "text/latex": "$\\displaystyle \\frac{\\log{\\left(x^{2} - 1 \\right)}}{4} - \\frac{\\log{\\left(x^{2} + 1 \\right)}}{4}$"
          },
          "metadata": {}
        }
      ]
    },
    {
      "cell_type": "code",
      "source": "f = x**Rational(1,3)/((x**2)**Rational(1,3)-sqrt(x))\nf",
      "metadata": {
        "trusted": true
      },
      "execution_count": 22,
      "outputs": [
        {
          "execution_count": 22,
          "output_type": "execute_result",
          "data": {
            "text/plain": "x**(1/3)/(-sqrt(x) + (x**2)**(1/3))",
            "text/latex": "$\\displaystyle \\frac{\\sqrt[3]{x}}{- \\sqrt{x} + \\sqrt[3]{x^{2}}}$"
          },
          "metadata": {}
        }
      ]
    },
    {
      "cell_type": "code",
      "source": "f = x**Rational(1,3)*(1+3*((x**2)**Rational(1,3)))**Rational(1,3)\nf",
      "metadata": {
        "trusted": true
      },
      "execution_count": 26,
      "outputs": [
        {
          "execution_count": 26,
          "output_type": "execute_result",
          "data": {
            "text/plain": "x**(1/3)*(3*(x**2)**(1/3) + 1)**(1/3)",
            "text/latex": "$\\displaystyle \\sqrt[3]{x} \\sqrt[3]{3 \\sqrt[3]{x^{2}} + 1}$"
          },
          "metadata": {}
        }
      ]
    },
    {
      "cell_type": "code",
      "source": "integrate(f, x)",
      "metadata": {
        "trusted": true
      },
      "execution_count": 27,
      "outputs": [
        {
          "execution_count": 27,
          "output_type": "execute_result",
          "data": {
            "text/plain": "Integral(x**(1/3)*(3*(x**2)**(1/3) + 1)**(1/3), x)",
            "text/latex": "$\\displaystyle \\int \\sqrt[3]{x} \\sqrt[3]{3 \\sqrt[3]{x^{2}} + 1}\\, dx$"
          },
          "metadata": {}
        }
      ]
    },
    {
      "cell_type": "code",
      "source": "f = 1/(sin(x)*sin(2*x))\nf",
      "metadata": {
        "trusted": true
      },
      "execution_count": 30,
      "outputs": [
        {
          "execution_count": 30,
          "output_type": "execute_result",
          "data": {
            "text/plain": "1/(sin(x)*sin(2*x))",
            "text/latex": "$\\displaystyle \\frac{1}{\\sin{\\left(x \\right)} \\sin{\\left(2 x \\right)}}$"
          },
          "metadata": {}
        }
      ]
    },
    {
      "cell_type": "code",
      "source": "integrate(f, x)",
      "metadata": {
        "trusted": true
      },
      "execution_count": 31,
      "outputs": [
        {
          "execution_count": 31,
          "output_type": "execute_result",
          "data": {
            "text/plain": "-log(sin(x) - 1)/4 + log(sin(x) + 1)/4 - 1/(2*sin(x))",
            "text/latex": "$\\displaystyle - \\frac{\\log{\\left(\\sin{\\left(x \\right)} - 1 \\right)}}{4} + \\frac{\\log{\\left(\\sin{\\left(x \\right)} + 1 \\right)}}{4} - \\frac{1}{2 \\sin{\\left(x \\right)}}$"
          },
          "metadata": {}
        }
      ]
    },
    {
      "cell_type": "code",
      "source": "f = cos(5*x)*cos(3*x)\nf",
      "metadata": {
        "trusted": true
      },
      "execution_count": 33,
      "outputs": [
        {
          "execution_count": 33,
          "output_type": "execute_result",
          "data": {
            "text/plain": "cos(3*x)*cos(5*x)",
            "text/latex": "$\\displaystyle \\cos{\\left(3 x \\right)} \\cos{\\left(5 x \\right)}$"
          },
          "metadata": {}
        }
      ]
    },
    {
      "cell_type": "code",
      "source": "integrate(f, x)",
      "metadata": {
        "trusted": true
      },
      "execution_count": 34,
      "outputs": [
        {
          "execution_count": 34,
          "output_type": "execute_result",
          "data": {
            "text/plain": "-3*sin(3*x)*cos(5*x)/16 + 5*sin(5*x)*cos(3*x)/16",
            "text/latex": "$\\displaystyle - \\frac{3 \\sin{\\left(3 x \\right)} \\cos{\\left(5 x \\right)}}{16} + \\frac{5 \\sin{\\left(5 x \\right)} \\cos{\\left(3 x \\right)}}{16}$"
          },
          "metadata": {}
        }
      ]
    },
    {
      "cell_type": "code",
      "source": "f = (2*x+sin(2*x))\nf",
      "metadata": {
        "trusted": true
      },
      "execution_count": 42,
      "outputs": [
        {
          "execution_count": 42,
          "output_type": "execute_result",
          "data": {
            "text/plain": "2*x + sin(2*x)",
            "text/latex": "$\\displaystyle 2 x + \\sin{\\left(2 x \\right)}$"
          },
          "metadata": {}
        }
      ]
    },
    {
      "cell_type": "code",
      "source": "integrate(f, (x,0,pi))",
      "metadata": {
        "trusted": true
      },
      "execution_count": 43,
      "outputs": [
        {
          "execution_count": 43,
          "output_type": "execute_result",
          "data": {
            "text/plain": "pi**2",
            "text/latex": "$\\displaystyle \\pi^{2}$"
          },
          "metadata": {}
        }
      ]
    },
    {
      "cell_type": "code",
      "source": "f = sqrt(4*x-2)\nf",
      "metadata": {
        "trusted": true
      },
      "execution_count": 44,
      "outputs": [
        {
          "execution_count": 44,
          "output_type": "execute_result",
          "data": {
            "text/plain": "sqrt(4*x - 2)",
            "text/latex": "$\\displaystyle \\sqrt{4 x - 2}$"
          },
          "metadata": {}
        }
      ]
    },
    {
      "cell_type": "code",
      "source": "integrate(f, (x,1/2,1))",
      "metadata": {
        "trusted": true
      },
      "execution_count": 45,
      "outputs": [
        {
          "execution_count": 45,
          "output_type": "execute_result",
          "data": {
            "text/plain": "sqrt(2)/3",
            "text/latex": "$\\displaystyle \\frac{\\sqrt{2}}{3}$"
          },
          "metadata": {}
        }
      ]
    },
    {
      "cell_type": "code",
      "source": "f = exp(-4*x)\nf",
      "metadata": {
        "trusted": true
      },
      "execution_count": 47,
      "outputs": [
        {
          "execution_count": 47,
          "output_type": "execute_result",
          "data": {
            "text/plain": "exp(-4*x)",
            "text/latex": "$\\displaystyle e^{- 4 x}$"
          },
          "metadata": {}
        }
      ]
    },
    {
      "cell_type": "code",
      "source": "integrate(f, (x,0,oo))",
      "metadata": {
        "trusted": true
      },
      "execution_count": 48,
      "outputs": [
        {
          "execution_count": 48,
          "output_type": "execute_result",
          "data": {
            "text/plain": "1/4",
            "text/latex": "$\\displaystyle \\frac{1}{4}$"
          },
          "metadata": {}
        }
      ]
    },
    {
      "cell_type": "code",
      "source": "f = log(x)\nf",
      "metadata": {
        "trusted": true
      },
      "execution_count": 49,
      "outputs": [
        {
          "execution_count": 49,
          "output_type": "execute_result",
          "data": {
            "text/plain": "log(x)",
            "text/latex": "$\\displaystyle \\log{\\left(x \\right)}$"
          },
          "metadata": {}
        }
      ]
    },
    {
      "cell_type": "code",
      "source": "integrate(f, (x,0,1))",
      "metadata": {
        "trusted": true
      },
      "execution_count": 50,
      "outputs": [
        {
          "execution_count": 50,
          "output_type": "execute_result",
          "data": {
            "text/plain": "-1",
            "text/latex": "$\\displaystyle -1$"
          },
          "metadata": {}
        }
      ]
    },
    {
      "cell_type": "code",
      "source": "",
      "metadata": {},
      "execution_count": null,
      "outputs": []
    }
  ]
}