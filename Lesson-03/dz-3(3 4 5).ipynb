{
  "metadata": {
    "language_info": {
      "codemirror_mode": {
        "name": "python",
        "version": 3
      },
      "file_extension": ".py",
      "mimetype": "text/x-python",
      "name": "python",
      "nbconvert_exporter": "python",
      "pygments_lexer": "ipython3",
      "version": "3.8"
    },
    "kernelspec": {
      "name": "python",
      "display_name": "Python (Pyodide)",
      "language": "python"
    }
  },
  "nbformat_minor": 4,
  "nbformat": 4,
  "cells": [
    {
      "cell_type": "code",
      "source": "import numpy as np\nimport math\nimport cmath\nimport matplotlib.pyplot as plt\nfrom sympy import limit, Symbol, oo, cos, tan",
      "metadata": {
        "trusted": true
      },
      "execution_count": 15,
      "outputs": []
    },
    {
      "cell_type": "markdown",
      "source": "3. Найти пределы",
      "metadata": {}
    },
    {
      "cell_type": "markdown",
      "source": "lim(10n/(n^2+1))\\\nx→∞",
      "metadata": {}
    },
    {
      "cell_type": "code",
      "source": "n = Symbol('n')\nfun = (10*n)/(n**2+1)\nlimit(fun, x, oo)",
      "metadata": {
        "trusted": true
      },
      "execution_count": 16,
      "outputs": [
        {
          "execution_count": 16,
          "output_type": "execute_result",
          "data": {
            "text/plain": "0",
            "text/latex": "$\\displaystyle 0$"
          },
          "metadata": {}
        }
      ]
    },
    {
      "cell_type": "markdown",
      "source": "lim((n^2−n)/(n−√n))\\\nx→∞",
      "metadata": {}
    },
    {
      "cell_type": "code",
      "source": "n = Symbol('n')\nfun = (n**2-n)/(n-(n**(1/2)))\nlimit(fun, x, oo)",
      "metadata": {
        "trusted": true
      },
      "execution_count": 17,
      "outputs": [
        {
          "execution_count": 17,
          "output_type": "execute_result",
          "data": {
            "text/plain": "oo",
            "text/latex": "$\\displaystyle \\infty$"
          },
          "metadata": {}
        }
      ]
    },
    {
      "cell_type": "markdown",
      "source": "lim((5·3^n)/(3^n−2))\\\nx→∞",
      "metadata": {}
    },
    {
      "cell_type": "code",
      "source": "n = Symbol('n')\nfun = (5*(3**n))/((3**n)-2)\nlimit(fun, x, oo)",
      "metadata": {
        "trusted": true
      },
      "execution_count": 18,
      "outputs": [
        {
          "execution_count": 18,
          "output_type": "execute_result",
          "data": {
            "text/plain": "5",
            "text/latex": "$\\displaystyle 5$"
          },
          "metadata": {}
        }
      ]
    },
    {
      "cell_type": "markdown",
      "source": "4. Найти предел",
      "metadata": {}
    },
    {
      "cell_type": "markdown",
      "source": "lim(√(n^2 + n) − n)\\\nx→∞",
      "metadata": {}
    },
    {
      "cell_type": "code",
      "source": "n = Symbol('n')\nfun = (n**2+n)**(1/2)-n\nlimit(fun, x, oo)",
      "metadata": {
        "trusted": true
      },
      "execution_count": 19,
      "outputs": [
        {
          "execution_count": 19,
          "output_type": "execute_result",
          "data": {
            "text/plain": "1/2",
            "text/latex": "$\\displaystyle \\frac{1}{2}$"
          },
          "metadata": {}
        }
      ]
    },
    {
      "cell_type": "markdown",
      "source": "5. Найти придел",
      "metadata": {}
    },
    {
      "cell_type": "markdown",
      "source": "lim(√n*cos(n)/(n+1))\\\nx→∞",
      "metadata": {}
    },
    {
      "cell_type": "code",
      "source": "n = Symbol('n')\nfun = ((n**(1/2))*cos(n))/(n+1)\nlimit(fun, x, oo)",
      "metadata": {
        "trusted": true
      },
      "execution_count": 21,
      "outputs": [
        {
          "execution_count": 21,
          "output_type": "execute_result",
          "data": {
            "text/plain": "0",
            "text/latex": "$\\displaystyle 0$"
          },
          "metadata": {}
        }
      ]
    },
    {
      "cell_type": "code",
      "source": "",
      "metadata": {},
      "execution_count": null,
      "outputs": []
    }
  ]
}