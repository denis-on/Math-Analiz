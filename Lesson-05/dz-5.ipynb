{
 "cells": [
  {
   "cell_type": "code",
   "execution_count": 1,
   "id": "35ff77ef",
   "metadata": {},
   "outputs": [],
   "source": [
    "import numpy as np\n",
    "import math\n",
    "import cmath\n",
    "import matplotlib.pyplot as plt\n",
    "from sympy import limit, Symbol, oo, cos, tan, log, asin, sin"
   ]
  },
  {
   "cell_type": "markdown",
   "id": "43ed56ed",
   "metadata": {},
   "source": [
    "### 1. Найти пределы"
   ]
  },
  {
   "cell_type": "markdown",
   "id": "b3c6d82f",
   "metadata": {},
   "source": [
    "lim[ln(x + 3) − ln x]\\\n",
    "x→∞"
   ]
  },
  {
   "cell_type": "code",
   "execution_count": 2,
   "id": "4ceb20c1",
   "metadata": {},
   "outputs": [
    {
     "data": {
      "text/latex": [
       "$\\displaystyle 0$"
      ],
      "text/plain": [
       "0"
      ]
     },
     "execution_count": 2,
     "metadata": {},
     "output_type": "execute_result"
    }
   ],
   "source": [
    "x = Symbol('x')\n",
    "fun = log(x+3)-log(x)\n",
    "limit(fun, x, oo)"
   ]
  },
  {
   "cell_type": "markdown",
   "id": "ec85c1ed",
   "metadata": {},
   "source": [
    "lim[ln(1+2x)/arcsin 3x]/x→0"
   ]
  },
  {
   "cell_type": "code",
   "execution_count": 3,
   "id": "0fd1ac13",
   "metadata": {},
   "outputs": [
    {
     "data": {
      "text/latex": [
       "$\\displaystyle \\frac{2}{3}$"
      ],
      "text/plain": [
       "2/3"
      ]
     },
     "execution_count": 3,
     "metadata": {},
     "output_type": "execute_result"
    }
   ],
   "source": [
    "x = Symbol('x')\n",
    "fun = log(1+2*x)/asin(3*x)\n",
    "limit(fun, x, 0)"
   ]
  },
  {
   "cell_type": "markdown",
   "id": "20a8696f",
   "metadata": {},
   "source": [
    "lim(7^x−1/3^x−1) /\n",
    "x→0"
   ]
  },
  {
   "cell_type": "code",
   "execution_count": 4,
   "id": "9eb65b7b",
   "metadata": {},
   "outputs": [
    {
     "data": {
      "text/latex": [
       "$\\displaystyle \\frac{\\log{\\left(7 \\right)}}{\\log{\\left(3 \\right)}}$"
      ],
      "text/plain": [
       "log(7)/log(3)"
      ]
     },
     "execution_count": 4,
     "metadata": {},
     "output_type": "execute_result"
    }
   ],
   "source": [
    "x = Symbol('x')\n",
    "fun = ((7**x)-1)/((3**x)-1)\n",
    "limit(fun, x, 0)"
   ]
  },
  {
   "cell_type": "markdown",
   "id": "992c5f9f",
   "metadata": {},
   "source": [
    "lim (x+a)^3-x^3/a\\\n",
    "a→0"
   ]
  },
  {
   "cell_type": "code",
   "execution_count": 5,
   "id": "4769e804",
   "metadata": {},
   "outputs": [
    {
     "data": {
      "text/latex": [
       "$\\displaystyle 3 x^{2}$"
      ],
      "text/plain": [
       "3*x**2"
      ]
     },
     "execution_count": 5,
     "metadata": {},
     "output_type": "execute_result"
    }
   ],
   "source": [
    "a = Symbol('a')\n",
    "x = Symbol('x')\n",
    "fun = (((x+a)**3)-(x**3))/(a)\n",
    "limit(fun, a, 0)"
   ]
  },
  {
   "cell_type": "markdown",
   "id": "f5a3f1ee",
   "metadata": {},
   "source": [
    "lim x^3/5x^2+1 − x^2/5x−3 \\\n",
    "x→∞"
   ]
  },
  {
   "cell_type": "code",
   "execution_count": 6,
   "id": "746ac16e",
   "metadata": {},
   "outputs": [
    {
     "data": {
      "text/latex": [
       "$\\displaystyle \\infty$"
      ],
      "text/plain": [
       "oo"
      ]
     },
     "execution_count": 6,
     "metadata": {},
     "output_type": "execute_result"
    }
   ],
   "source": [
    "x = Symbol('x')\n",
    "fun = ((x**3)/(5*(x**2)+1))-((x**2)/(5**x-3))\n",
    "limit(fun, x, oo)"
   ]
  },
  {
   "cell_type": "markdown",
   "id": "e3cbb1d1",
   "metadata": {},
   "source": [
    "lim 1-cos(4x)/2x·tg(2x)\\\n",
    "x→0"
   ]
  },
  {
   "cell_type": "code",
   "execution_count": 7,
   "id": "00500d45",
   "metadata": {},
   "outputs": [
    {
     "data": {
      "text/latex": [
       "$\\displaystyle 2$"
      ],
      "text/plain": [
       "2"
      ]
     },
     "execution_count": 7,
     "metadata": {},
     "output_type": "execute_result"
    }
   ],
   "source": [
    "x = Symbol('x')\n",
    "fun = (1-cos(4*x))/(2*x*tan(2*x))\n",
    "limit(fun, x, 0)"
   ]
  },
  {
   "cell_type": "markdown",
   "id": "65623d83",
   "metadata": {},
   "source": [
    "lim x sin(2/x)\\\n",
    "x→∞"
   ]
  },
  {
   "cell_type": "code",
   "execution_count": 8,
   "id": "84fd1da0",
   "metadata": {},
   "outputs": [
    {
     "data": {
      "text/latex": [
       "$\\displaystyle 2$"
      ],
      "text/plain": [
       "2"
      ]
     },
     "execution_count": 8,
     "metadata": {},
     "output_type": "execute_result"
    }
   ],
   "source": [
    "x = Symbol('x')\n",
    "fun = x*sin(2/x)\n",
    "limit(fun, x, oo)"
   ]
  },
  {
   "cell_type": "markdown",
   "id": "649885e6",
   "metadata": {},
   "source": [
    "lim (1 + tg x)^ctg(x)\\\n",
    "x→0"
   ]
  },
  {
   "cell_type": "code",
   "execution_count": 9,
   "id": "ebbef88b",
   "metadata": {},
   "outputs": [
    {
     "data": {
      "text/latex": [
       "$\\displaystyle e$"
      ],
      "text/plain": [
       "E"
      ]
     },
     "execution_count": 9,
     "metadata": {},
     "output_type": "execute_result"
    }
   ],
   "source": [
    "x = Symbol('x')\n",
    "fun = (1+tan(x))**(1/tan(x))\n",
    "limit(fun, x, 0)"
   ]
  },
  {
   "cell_type": "markdown",
   "id": "cc2b491c",
   "metadata": {},
   "source": [
    "lim\n",
    "(cos 2x)^(1/sin2 x)\\\n",
    "x→0"
   ]
  },
  {
   "cell_type": "code",
   "execution_count": 10,
   "id": "42c60c9c",
   "metadata": {},
   "outputs": [
    {
     "data": {
      "text/latex": [
       "$\\displaystyle 1$"
      ],
      "text/plain": [
       "1"
      ]
     },
     "execution_count": 10,
     "metadata": {},
     "output_type": "execute_result"
    }
   ],
   "source": [
    "x = Symbol('x')\n",
    "fun = (cos(2*x))**(1/sin(2*x))\n",
    "limit(fun, x, 0)"
   ]
  },
  {
   "cell_type": "markdown",
   "id": "d56a9f1d",
   "metadata": {},
   "source": [
    "lim √(1+xsinx)−1/x^2\\\n",
    "x→0"
   ]
  },
  {
   "cell_type": "code",
   "execution_count": 11,
   "id": "39671cb8",
   "metadata": {},
   "outputs": [
    {
     "data": {
      "text/latex": [
       "$\\displaystyle 0.5$"
      ],
      "text/plain": [
       "0.500000000000000"
      ]
     },
     "execution_count": 11,
     "metadata": {},
     "output_type": "execute_result"
    }
   ],
   "source": [
    "x = Symbol('x')\n",
    "fun = ((1+x*sin(x))**(1/2)-1)/x**2\n",
    "limit(fun, x, 0)"
   ]
  },
  {
   "cell_type": "markdown",
   "id": "cebe63b7",
   "metadata": {},
   "source": [
    "### 2. Установить характер разрыва функции в точке x0:"
   ]
  },
  {
   "cell_type": "markdown",
   "id": "d8a46786",
   "metadata": {},
   "source": [
    "##### Характер разрыва функции в точке  𝑥0=−4  для функции  𝑓(𝑥)=(𝑥^2−16)/(𝑥+4)  можно установить, проанализировав поведение функции вблизи точки  𝑥0 . Для этого необходимо рассмотреть значение функции слева и справа от точки  𝑥0 ."
   ]
  },
  {
   "cell_type": "code",
   "execution_count": 12,
   "id": "0ffa61db",
   "metadata": {},
   "outputs": [],
   "source": [
    "def f(x):\n",
    "    return (x**2 - 16)/(x + 4)"
   ]
  },
  {
   "cell_type": "markdown",
   "id": "9516ece4",
   "metadata": {},
   "source": [
    "Определение левого и правого предела функции в точке 𝑥0=−4 "
   ]
  },
  {
   "cell_type": "code",
   "execution_count": 13,
   "id": "0acc2676",
   "metadata": {},
   "outputs": [
    {
     "data": {
      "text/latex": [
       "$\\displaystyle -8$"
      ],
      "text/plain": [
       "-8"
      ]
     },
     "execution_count": 13,
     "metadata": {},
     "output_type": "execute_result"
    }
   ],
   "source": [
    "from sympy.abc import x\n",
    "\n",
    "limit(f(x), x, -4, dir='-')  # левый предел"
   ]
  },
  {
   "cell_type": "code",
   "execution_count": 14,
   "id": "c1ca69f9",
   "metadata": {},
   "outputs": [
    {
     "data": {
      "text/latex": [
       "$\\displaystyle -8$"
      ],
      "text/plain": [
       "-8"
      ]
     },
     "execution_count": 14,
     "metadata": {},
     "output_type": "execute_result"
    }
   ],
   "source": [
    "limit(f(x), x, -4, dir='+')  # правый предел"
   ]
  },
  {
   "cell_type": "markdown",
   "id": "29593ea8",
   "metadata": {},
   "source": [
    "     Анализ пределов\n",
    "\n",
    "Если левый и правый пределы существуют и конечны, а также не равны между собой, то имеет место быть устранимый разрыв функции.\n",
    "\n",
    "Если левый и правый пределы существуют и конечны, а также равны между собой, то имеет место быть разрыв функции в точке.\n",
    "\n",
    "Если один из пределов не существует (бесконечный), то имеет место быть разрыв функции в точке.\n",
    "\n",
    "    Расчет устранимости разрыва\n",
    "\n",
    "Для определения устранимости разрыва необходимо рассчитать значение функции в точке разрыва. Если существует конечный предел этого значения, то имеет место быть устранимый разрыв функции. В противном случае имеет место быть разрыв функции в точке. "
   ]
  },
  {
   "cell_type": "code",
   "execution_count": 15,
   "id": "1294da2e",
   "metadata": {},
   "outputs": [
    {
     "data": {
      "text/latex": [
       "$\\displaystyle -8$"
      ],
      "text/plain": [
       "-8"
      ]
     },
     "execution_count": 15,
     "metadata": {},
     "output_type": "execute_result"
    }
   ],
   "source": [
    "limit(f(x), x, -4)  # значение функции в точке разрыва"
   ]
  },
  {
   "cell_type": "markdown",
   "id": "b7f5b92d",
   "metadata": {},
   "source": [
    "Таким образом, для функции  𝑓(𝑥)=(𝑥^2−16)/(𝑥+4)  в точке  𝑥0=−4  имеет место быть устранимый разрыв функции."
   ]
  },
  {
   "cell_type": "markdown",
   "id": "0a331692",
   "metadata": {},
   "source": [
    "##### Характер разрыва функции в точке  𝑥0=0  для функции  𝑓(𝑥)=(sin(𝑥))/(𝑥)  можно установить, проанализировав предел функции при стремлении аргумента к точке  𝑥0=0 . Для этого необходимо рассмотреть левый и правый пределы функции."
   ]
  },
  {
   "cell_type": "code",
   "execution_count": 16,
   "id": "ac73c584",
   "metadata": {},
   "outputs": [],
   "source": [
    "fun = sin(x)/x\n"
   ]
  },
  {
   "cell_type": "markdown",
   "id": "e11be904",
   "metadata": {},
   "source": [
    "Определение левого и правого предела функции в точке 𝑥0=−4"
   ]
  },
  {
   "cell_type": "code",
   "execution_count": 17,
   "id": "d508bc7f",
   "metadata": {},
   "outputs": [
    {
     "data": {
      "text/latex": [
       "$\\displaystyle 1$"
      ],
      "text/plain": [
       "1"
      ]
     },
     "execution_count": 17,
     "metadata": {},
     "output_type": "execute_result"
    }
   ],
   "source": [
    "from sympy.abc import x\n",
    "\n",
    "limit(fun, x, 0, dir='-')  # левый предел"
   ]
  },
  {
   "cell_type": "code",
   "execution_count": 18,
   "id": "794c0cf8",
   "metadata": {},
   "outputs": [
    {
     "data": {
      "text/latex": [
       "$\\displaystyle 1$"
      ],
      "text/plain": [
       "1"
      ]
     },
     "execution_count": 18,
     "metadata": {},
     "output_type": "execute_result"
    }
   ],
   "source": [
    "limit(fun, x, 0, dir='+')  # правый предел"
   ]
  },
  {
   "cell_type": "markdown",
   "id": "56d1f6fc",
   "metadata": {},
   "source": [
    "     Анализ пределов\n",
    "\n",
    "Если левый и правый пределы существуют и конечны, а также не равны между собой, то имеет место быть устранимый разрыв функции.\n",
    "\n",
    "Если левый и правый пределы существуют и конечны, а также равны между собой, то имеет место быть разрыв функции в точке.\n",
    "\n",
    "Если один из пределов не существует (бесконечный), то имеет место быть разрыв функции в точке.\n",
    "\n",
    "    Расчет устранимости разрыва\n",
    "\n",
    "Для определения устранимости разрыва необходимо рассчитать значение функции в точке разрыва. Если существует конечный предел этого значения, то имеет место быть устранимый разрыв функции. В противном случае имеет место быть разрыв функции в точке. "
   ]
  },
  {
   "cell_type": "code",
   "execution_count": 19,
   "id": "304afe30",
   "metadata": {},
   "outputs": [
    {
     "data": {
      "text/latex": [
       "$\\displaystyle 1$"
      ],
      "text/plain": [
       "1"
      ]
     },
     "execution_count": 19,
     "metadata": {},
     "output_type": "execute_result"
    }
   ],
   "source": [
    "limit(fun, x, 0)  # значение функции в точке разрыва"
   ]
  },
  {
   "cell_type": "markdown",
   "id": "bdc09371",
   "metadata": {},
   "source": [
    "Таким образом, для функции  𝑓(𝑥)=(sin(𝑥))/(𝑥)  в точке  𝑥0=0  имеет место быть устранимый разрыв функции."
   ]
  },
  {
   "cell_type": "markdown",
   "id": "9d9e7cd9",
   "metadata": {},
   "source": [
    "### 3. Исследовать на непрерывность функцию f(x) в точке x0:"
   ]
  },
  {
   "cell_type": "markdown",
   "id": "94327280",
   "metadata": {},
   "source": [
    "Для исследования непрерывности функции f(x) в точке x0=1 мы проверим следующее:\n",
    "\n",
    "    Функция существует в точке x0=1.\n",
    "    Функция f(x) определена в окрестности x0=1.\n",
    "    Следующие пределы должны существовать и быть равными:\n",
    "\n",
    "$$\\lim_{x\\to1^-} f(x) = f(1) = \\lim_{x\\to1^+} f(x)$$\n",
    "\n",
    "Если все три условия выполнены, то функция f(x) непрерывна в точке x0=1."
   ]
  },
  {
   "cell_type": "code",
   "execution_count": 20,
   "id": "420aa4d4",
   "metadata": {},
   "outputs": [
    {
     "name": "stdout",
     "output_type": "stream",
     "text": [
      "Функция существует в точке x0=1\n",
      "Функция определена в окрестности x0=1\n",
      "Функция не непрерывна в точке x0=1\n"
     ]
    }
   ],
   "source": [
    "import sympy\n",
    "\n",
    "# Определение символьной переменной x\n",
    "x = sympy.Symbol('x')\n",
    "\n",
    "# Определение функции\n",
    "f = sympy.atan(2 / (x - 1))\n",
    "\n",
    "# Проверка, что функция f(x) существует в точке x0=1\n",
    "if sympy.limit(f, x, 1) == sympy.atan(sympy.oo):\n",
    "    print(\"Функция существует в точке x0=1\")\n",
    "else:\n",
    "    print(\"Функция не существует в точке x0=1\")\n",
    "\n",
    "# Проверка определенности функции в окрестности x0=1\n",
    "if f.subs(x, 1 - sympy.Rational(1, 10)) != sympy.atan(sympy.oo) and f.subs(x, 1 + sympy.Rational(1, 10)) != sympy.atan(sympy.oo):\n",
    "    print(\"Функция определена в окрестности x0=1\")\n",
    "else:\n",
    "    print(\"Функция не определена в окрестности x0=1\")\n",
    "\n",
    "# Проверка наличия пределов и их равенства\n",
    "if sympy.limit(f, x, 1, dir='-') == f.subs(x, 1) == sympy.limit(f, x, 1, dir='+'):\n",
    "    print(\"Функция непрерывна в точке x0=1\")\n",
    "else:\n",
    "    print(\"Функция не непрерывна в точке x0=1\")"
   ]
  },
  {
   "cell_type": "markdown",
   "id": "0496f6e5",
   "metadata": {},
   "source": [
    "Для исследования непрерывности функции f(x) в точке x0=3 мы также проверяем следующее:\n",
    "\n",
    "    Функция существует в точке x0=3.\n",
    "    Функция f(x) определена в окрестности x0=3.\n",
    "    Следующие пределы должны существовать и быть равными:\n",
    "\n",
    "$$\\lim_{x\\to3^-} f(x) = f(3) = \\lim_{x\\to3^+} f(x)$$\n",
    "\n",
    "Если все три условия выполнены, то функция f(x) непрерывна в точке x0=3.\n",
    "\n",
    "Код для исследования непрерывности функции f(x) в точке x0=3 для f(x) = 1/(2^(x-3)-1) может выглядеть следующим образом:"
   ]
  },
  {
   "cell_type": "code",
   "execution_count": 21,
   "id": "85a5df0f",
   "metadata": {},
   "outputs": [
    {
     "name": "stdout",
     "output_type": "stream",
     "text": [
      "Функция не существует в точке x0=3\n",
      "Функция определена в окрестности x0=3\n",
      "Функция не непрерывна в точке x0=3\n"
     ]
    }
   ],
   "source": [
    "import sympy\n",
    "\n",
    "# Определение символьной переменной x\n",
    "x = sympy.Symbol('x')\n",
    "\n",
    "# Определение функции\n",
    "f = 1 / (2 ** (x - 3) - 1)\n",
    "\n",
    "# Проверка, что функция f(x) существует в точке x0=3\n",
    "if sympy.limit(f, x, 3) == sympy.oo or sympy.limit(f, x, 3) == -sympy.oo:\n",
    "    print(\"Функция не существует в точке x0=3\")\n",
    "elif sympy.limit(f, x, 3).is_complex:\n",
    "    print(\"Функция не существует в точке x0=3\")\n",
    "else:\n",
    "    print(\"Функция существует в точке x0=3\")\n",
    "\n",
    "# Проверка определенности функции в окрестности x0=3\n",
    "if f.subs(x, 3 - sympy.Rational(1, 10)) != sympy.oo and f.subs(x, 3 + sympy.Rational(1, 10)) != sympy.oo:\n",
    "    print(\"Функция определена в окрестности x0=3\")\n",
    "else:\n",
    "    print(\"Функция не определена в окрестности x0=3\")\n",
    "\n",
    "# Проверка наличия пределов и их равенства\n",
    "if sympy.limit(f, x, 3, dir='-') == f.subs(x, 3) == sympy.limit(f, x, 3, dir='+'):\n",
    "    print(\"Функция непрерывна в точке x0=3\")\n",
    "else:\n",
    "    print(\"Функция не непрерывна в точке x0=3\")"
   ]
  },
  {
   "cell_type": "code",
   "execution_count": null,
   "id": "a2bcf421",
   "metadata": {},
   "outputs": [],
   "source": []
  }
 ],
 "metadata": {
  "kernelspec": {
   "display_name": "Python 3 (ipykernel)",
   "language": "python",
   "name": "python3"
  },
  "language_info": {
   "codemirror_mode": {
    "name": "ipython",
    "version": 3
   },
   "file_extension": ".py",
   "mimetype": "text/x-python",
   "name": "python",
   "nbconvert_exporter": "python",
   "pygments_lexer": "ipython3",
   "version": "3.9.12"
  }
 },
 "nbformat": 4,
 "nbformat_minor": 5
}
