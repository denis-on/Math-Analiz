{
  "metadata": {
    "language_info": {
      "codemirror_mode": {
        "name": "python",
        "version": 3
      },
      "file_extension": ".py",
      "mimetype": "text/x-python",
      "name": "python",
      "nbconvert_exporter": "python",
      "pygments_lexer": "ipython3",
      "version": "3.8"
    },
    "kernelspec": {
      "name": "python",
      "display_name": "Python (Pyodide)",
      "language": "python"
    }
  },
  "nbformat_minor": 4,
  "nbformat": 4,
  "cells": [
    {
      "cell_type": "markdown",
      "source": "## Задания к занятию №11",
      "metadata": {}
    },
    {
      "cell_type": "code",
      "source": "import sympy as sp\nfrom sympy.abc import x, y\nfrom sympy import Function",
      "metadata": {
        "trusted": true
      },
      "execution_count": 1,
      "outputs": []
    },
    {
      "cell_type": "markdown",
      "source": "### 1. Решить уравнения:",
      "metadata": {}
    },
    {
      "cell_type": "code",
      "source": "# Создаем функцию\ny = Function(\"y\")(x)\n\n# Исходное уравнение\nequation = sp.Eq(x**2*sp.diff(y,x) + x*y + 1, 0)\ndisplay(equation)\n\n# Решение\ny_sol = sp.dsolve(equation, y)\ndisplay(y_sol)",
      "metadata": {
        "trusted": true
      },
      "execution_count": 2,
      "outputs": [
        {
          "output_type": "display_data",
          "data": {
            "text/plain": "Eq(x**2*Derivative(y(x), x) + x*y(x) + 1, 0)",
            "text/latex": "$\\displaystyle x^{2} \\frac{d}{d x} y{\\left(x \\right)} + x y{\\left(x \\right)} + 1 = 0$"
          },
          "metadata": {}
        },
        {
          "output_type": "display_data",
          "data": {
            "text/plain": "Eq(y(x), (C1 - log(x))/x)",
            "text/latex": "$\\displaystyle y{\\left(x \\right)} = \\frac{C_{1} - \\log{\\left(x \\right)}}{x}$"
          },
          "metadata": {}
        }
      ]
    },
    {
      "cell_type": "code",
      "source": "# Создаем функцию\ny = Function(\"y\")(x)\n\n# Исходное уравнение\nequation = sp.Eq(sp.diff(y,x) - y , 2*x - 3)\ndisplay(equation)\n\n# Решение\ny_sol = sp.dsolve(equation, y)\ndisplay(y_sol)",
      "metadata": {
        "trusted": true
      },
      "execution_count": 3,
      "outputs": [
        {
          "output_type": "display_data",
          "data": {
            "text/plain": "Eq(-y(x) + Derivative(y(x), x), 2*x - 3)",
            "text/latex": "$\\displaystyle - y{\\left(x \\right)} + \\frac{d}{d x} y{\\left(x \\right)} = 2 x - 3$"
          },
          "metadata": {}
        },
        {
          "output_type": "display_data",
          "data": {
            "text/plain": "Eq(y(x), C1*exp(x) - 2*x + 1)",
            "text/latex": "$\\displaystyle y{\\left(x \\right)} = C_{1} e^{x} - 2 x + 1$"
          },
          "metadata": {}
        }
      ]
    },
    {
      "cell_type": "markdown",
      "source": "### 2. Исследовать ряд на сходимость:",
      "metadata": {}
    },
    {
      "cell_type": "markdown",
      "source": "Для исследования сходимости ряда n^n/(n!) мы можем использовать тест Даламбера.\n\nСогласно тесту Даламбера, если последовательность (a_n+1 / a_n) сходится к числу r < 1, то ряд сходится. Если r > 1, то ряд расходится.\n\nВ данном случае, a_n = n^n/(n!), так что мы можем вычислить (a_n+1 / a_n) и посмотреть, сходится ли последовательность к r < 1 или r = 1.",
      "metadata": {}
    },
    {
      "cell_type": "markdown",
      "source": "* аналитическое решение",
      "metadata": {}
    },
    {
      "cell_type": "code",
      "source": "import math\n\n# Определение функции, вычисляющей a_n\ndef a(n):\n    return (n ** n) / math.factorial(n)\n\n# Вычисление (a_n+1 / a_n) для больших значений n\nfor n in range(1, 10):\n    ratio = a(n + 1) / a(n)\n    print(f\"n={n}, an={a(n)}, an+1={a(n + 1)}, ratio={ratio}\")\n",
      "metadata": {
        "trusted": true
      },
      "execution_count": 4,
      "outputs": [
        {
          "name": "stdout",
          "text": "n=1, an=1.0, an+1=2.0, ratio=2.0\nn=2, an=2.0, an+1=4.5, ratio=2.25\nn=3, an=4.5, an+1=10.666666666666666, ratio=2.3703703703703702\nn=4, an=10.666666666666666, an+1=26.041666666666668, ratio=2.4414062500000004\nn=5, an=26.041666666666668, an+1=64.8, ratio=2.48832\nn=6, an=64.8, an+1=163.4013888888889, ratio=2.521626371742113\nn=7, an=163.4013888888889, an+1=416.1015873015873, ratio=2.546499697040713\nn=8, an=416.1015873015873, an+1=1067.6270089285715, ratio=2.565784513950348\nn=9, an=1067.6270089285715, an+1=2755.731922398589, ratio=2.581174791713197\n",
          "output_type": "stream"
        }
      ]
    },
    {
      "cell_type": "markdown",
      "source": "Видим что такое отношение > 1 (естремиться к e)ряд расходиться",
      "metadata": {}
    },
    {
      "cell_type": "code",
      "source": "from sympy import limit, Symbol, oo, log, factorial, integrate\nn = Symbol('n')\n\ndef convergence_test_Dalambert(a_n,a_n1):\n    lim = limit(a_n1/a_n, n, oo)\n    print(f'a(n+1)/a(n) стремиться к: {lim}')\n    if lim > 1:\n        return \"Ряд расходится\"\n    elif lim < 1:\n        return \"Ряд сходится\"\n    else:\n        return \"требуеться дополнительное иследование\"",
      "metadata": {
        "trusted": true
      },
      "execution_count": 5,
      "outputs": []
    },
    {
      "cell_type": "code",
      "source": "def func(n):\n    return (n ** n) / factorial(n)\nfunc(n)",
      "metadata": {
        "trusted": true
      },
      "execution_count": 6,
      "outputs": [
        {
          "execution_count": 6,
          "output_type": "execute_result",
          "data": {
            "text/plain": "n**n/factorial(n)",
            "text/latex": "$\\displaystyle \\frac{n^{n}}{n!}$"
          },
          "metadata": {}
        }
      ]
    },
    {
      "cell_type": "code",
      "source": "# исследование сходимости\nprint(convergence_test_Dalambert(func(n),func(n+1)))",
      "metadata": {
        "trusted": true
      },
      "execution_count": 7,
      "outputs": [
        {
          "name": "stdout",
          "text": "a(n+1)/a(n) стремиться к: E\nРяд расходится\n",
          "output_type": "stream"
        }
      ]
    },
    {
      "cell_type": "code",
      "source": "def func(n):\n    return (n + 2) / (n**2 + n + 1)\nfunc(n)",
      "metadata": {
        "trusted": true
      },
      "execution_count": 8,
      "outputs": [
        {
          "execution_count": 8,
          "output_type": "execute_result",
          "data": {
            "text/plain": "(n + 2)/(n**2 + n + 1)",
            "text/latex": "$\\displaystyle \\frac{n + 2}{n^{2} + n + 1}$"
          },
          "metadata": {}
        }
      ]
    },
    {
      "cell_type": "code",
      "source": "# исследование сходимости\nprint(convergence_test_Dalambert(func(n),func(n+1)))",
      "metadata": {
        "trusted": true
      },
      "execution_count": 9,
      "outputs": [
        {
          "name": "stdout",
          "text": "a(n+1)/a(n) стремиться к: 1\nтребуеться дополнительное иследование\n",
          "output_type": "stream"
        }
      ]
    },
    {
      "cell_type": "code",
      "source": "# Вычислим интеграл - если он конечный то и ряд сходиться\nintegrate(func(n),(n,1,oo))",
      "metadata": {
        "trusted": true
      },
      "execution_count": 10,
      "outputs": [
        {
          "execution_count": 10,
          "output_type": "execute_result",
          "data": {
            "text/plain": "oo",
            "text/latex": "$\\displaystyle \\infty$"
          },
          "metadata": {}
        }
      ]
    },
    {
      "cell_type": "markdown",
      "source": "Ответ: Ряд расходиться",
      "metadata": {}
    },
    {
      "cell_type": "code",
      "source": "def func(n):\n    return n * (1 - 1/n)**(n*n)\nfunc(n)",
      "metadata": {
        "trusted": true
      },
      "execution_count": 11,
      "outputs": [
        {
          "execution_count": 11,
          "output_type": "execute_result",
          "data": {
            "text/plain": "n*(1 - 1/n)**(n**2)",
            "text/latex": "$\\displaystyle n \\left(1 - \\frac{1}{n}\\right)^{n^{2}}$"
          },
          "metadata": {}
        }
      ]
    },
    {
      "cell_type": "code",
      "source": "# исследование сходимости\nprint(convergence_test_Dalambert(func(n),func(n+1)))",
      "metadata": {
        "trusted": true
      },
      "execution_count": 12,
      "outputs": [
        {
          "name": "stdout",
          "text": "a(n+1)/a(n) стремиться к: exp(-1)\nРяд сходится\n",
          "output_type": "stream"
        }
      ]
    },
    {
      "cell_type": "code",
      "source": "def func(n):\n    return (-1)**(n+1)/(2*n-log(n))\nfunc(n)",
      "metadata": {
        "trusted": true
      },
      "execution_count": 13,
      "outputs": [
        {
          "execution_count": 13,
          "output_type": "execute_result",
          "data": {
            "text/plain": "(-1)**(n + 1)/(2*n - log(n))",
            "text/latex": "$\\displaystyle \\frac{\\left(-1\\right)^{n + 1}}{2 n - \\log{\\left(n \\right)}}$"
          },
          "metadata": {}
        }
      ]
    },
    {
      "cell_type": "code",
      "source": "# исследование сходимости\nprint(convergence_test_Dalambert(func(n),func(n+1)))",
      "metadata": {
        "trusted": true
      },
      "execution_count": 14,
      "outputs": [
        {
          "name": "stdout",
          "text": "a(n+1)/a(n) стремиться к: -1\nРяд сходится\n",
          "output_type": "stream"
        }
      ]
    },
    {
      "cell_type": "code",
      "source": "def func(n):\n    return (n-2)**(n+1)/(3**n*(n+2))\nfunc(n)",
      "metadata": {
        "trusted": true
      },
      "execution_count": 15,
      "outputs": [
        {
          "execution_count": 15,
          "output_type": "execute_result",
          "data": {
            "text/plain": "(n - 2)**(n + 1)/(3**n*(n + 2))",
            "text/latex": "$\\displaystyle \\frac{3^{- n} \\left(n - 2\\right)^{n + 1}}{n + 2}$"
          },
          "metadata": {}
        }
      ]
    },
    {
      "cell_type": "code",
      "source": "# исследование сходимости\nprint(convergence_test_Dalambert(func(n),func(n+1)))",
      "metadata": {
        "trusted": true
      },
      "execution_count": 16,
      "outputs": [
        {
          "name": "stdout",
          "text": "a(n+1)/a(n) стремиться к: oo\nРяд расходится\n",
          "output_type": "stream"
        }
      ]
    },
    {
      "cell_type": "code",
      "source": "",
      "metadata": {},
      "execution_count": null,
      "outputs": []
    }
  ]
}